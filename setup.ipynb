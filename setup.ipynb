{
 "cells": [
  {
   "metadata": {
    "ExecuteTime": {
     "end_time": "2025-03-03T00:55:17.540360Z",
     "start_time": "2025-03-03T00:55:12.504642Z"
    }
   },
   "cell_type": "code",
   "source": "!pip install --editable .",
   "id": "f8b016cbc7147408",
   "outputs": [
    {
     "name": "stdout",
     "output_type": "stream",
     "text": [
      "/bin/bash: warning: setlocale: LC_ALL: cannot change locale (en_US.UTF-8)\r\n",
      "Obtaining file:///home/dodeu/AGH/PD1/prototyping\r\n",
      "  Installing build dependencies ... \u001B[?25ldone\r\n",
      "\u001B[?25h  Checking if build backend supports build_editable ... \u001B[?25ldone\r\n",
      "\u001B[?25h  Getting requirements to build editable ... \u001B[?25ldone\r\n",
      "\u001B[?25h  Preparing editable metadata (pyproject.toml) ... \u001B[?25ldone\r\n",
      "\u001B[?25hBuilding wheels for collected packages: src\r\n",
      "  Building editable for src (pyproject.toml) ... \u001B[?25ldone\r\n",
      "\u001B[?25h  Created wheel for src: filename=src-0.1.0-0.editable-py3-none-any.whl size=2542 sha256=aeba192a2e0888c482c30a878fffc5a6f3ee4625106fb6a2e987dec5dd6c7804\r\n",
      "  Stored in directory: /tmp/pip-ephem-wheel-cache-fa3ahrky/wheels/f9/84/65/a411891b084e6129c47175b07a94cde2f570efc89c2b8ca392\r\n",
      "Successfully built src\r\n",
      "Installing collected packages: src\r\n",
      "  Attempting uninstall: src\r\n",
      "    Found existing installation: src 0.1.0\r\n",
      "    Uninstalling src-0.1.0:\r\n",
      "      Successfully uninstalled src-0.1.0\r\n",
      "Successfully installed src-0.1.0\r\n"
     ]
    }
   ],
   "execution_count": 1
  }
 ],
 "metadata": {
  "kernelspec": {
   "display_name": "Python 3",
   "language": "python",
   "name": "python3"
  },
  "language_info": {
   "codemirror_mode": {
    "name": "ipython",
    "version": 2
   },
   "file_extension": ".py",
   "mimetype": "text/x-python",
   "name": "python",
   "nbconvert_exporter": "python",
   "pygments_lexer": "ipython2",
   "version": "2.7.6"
  }
 },
 "nbformat": 4,
 "nbformat_minor": 5
}
