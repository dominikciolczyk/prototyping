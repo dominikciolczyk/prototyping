{
 "cells": [
  {
   "metadata": {
    "ExecuteTime": {
     "end_time": "2025-05-07T02:22:32.454534Z",
     "start_time": "2025-05-07T02:22:32.433145Z"
    }
   },
   "cell_type": "code",
   "source": [
    "%load_ext autoreload\n",
    "%autoreload 2"
   ],
   "id": "769a76b8b5552408",
   "outputs": [],
   "execution_count": 3
  },
  {
   "cell_type": "code",
   "id": "initial_id",
   "metadata": {
    "collapsed": true,
    "ExecuteTime": {
     "end_time": "2025-05-07T02:22:40.193278Z",
     "start_time": "2025-05-07T02:22:38.832715Z"
    }
   },
   "source": [
    "import yaml\n",
    "from src.pipelines.flow import run_pipeline\n",
    "\n",
    "with open(\"config.yaml\") as f:\n",
    "    cfg = yaml.safe_load(f)\n",
    "Xdict, scaler, meta = run_pipeline(cfg)"
   ],
   "outputs": [
    {
     "name": "stdout",
     "output_type": "stream",
     "text": [
      "Removed existing directory: /home/dodeu/AGH/PD1/prototyping/data/raw\n",
      "Unzipped /home/dodeu/AGH/PD1/prototyping/data/Dane - Polcom.zip → /home/dodeu/AGH/PD1/prototyping/data/raw\n",
      "Unzip raw data stage complete.\n",
      "Saved → /home/dodeu/AGH/PD1/prototyping/data/processed/Dane - Polcom/2022/M/VM01.parquet\n",
      "Saved → /home/dodeu/AGH/PD1/prototyping/data/processed/Dane - Polcom/2022/M/VM02.parquet\n",
      "Saved → /home/dodeu/AGH/PD1/prototyping/data/processed/Dane - Polcom/2022/M/VM03.parquet\n",
      "Saved → /home/dodeu/AGH/PD1/prototyping/data/processed/Dane - Polcom/2022/M/VM04.parquet\n",
      "Calculating RAM usage percent based on (ACTIVE/GRANTED) * 100 for R04\n",
      "Saved → /home/dodeu/AGH/PD1/prototyping/data/processed/Dane - Polcom/2022/M/VM05.parquet\n",
      "Calculating RAM usage percent based on (ACTIVE/GRANTED) * 100 for S\n",
      "Saved → /home/dodeu/AGH/PD1/prototyping/data/processed/Dane - Polcom/2022/M/VM06.parquet\n",
      "Saved → /home/dodeu/AGH/PD1/prototyping/data/processed/Dane - Polcom/2022/M/VM07.parquet\n",
      "Calculating RAM usage percent based on (ACTIVE/GRANTED) * 100 for V03\n",
      "Saved → /home/dodeu/AGH/PD1/prototyping/data/processed/Dane - Polcom/2022/M/VM08.parquet\n",
      "Extraction stage complete.\n",
      "Preprocessing stage complete.\n"
     ]
    }
   ],
   "execution_count": 1
  },
  {
   "metadata": {
    "ExecuteTime": {
     "end_time": "2025-05-07T02:22:51.927668Z",
     "start_time": "2025-05-07T02:22:51.903968Z"
    }
   },
   "cell_type": "code",
   "source": "Xdict",
   "id": "b24f03a93769f5e4",
   "outputs": [
    {
     "data": {
      "text/plain": [
       "{'VM06':                      CPU_USAGE_MHZ\n",
       " DATE                              \n",
       " 2022-03-14 12:00:00       0.873370\n",
       " 2022-03-14 14:00:00       0.314915\n",
       " 2022-03-14 16:00:00      -0.047649\n",
       " 2022-03-14 18:00:00       0.066814\n",
       " 2022-03-14 20:00:00      -0.018029\n",
       " ...                            ...\n",
       " 2022-04-12 22:00:00       0.100851\n",
       " 2022-04-13 00:00:00       0.266118\n",
       " 2022-04-13 02:00:00       0.021230\n",
       " 2022-04-13 04:00:00       0.171637\n",
       " 2022-04-13 06:00:00       0.918519\n",
       " \n",
       " [358 rows x 1 columns],\n",
       " 'VM03':                      CPU_USAGE_MHZ\n",
       " DATE                              \n",
       " 2022-03-13 14:00:00       0.922502\n",
       " 2022-03-13 16:00:00       0.917415\n",
       " 2022-03-13 18:00:00       0.842847\n",
       " 2022-03-13 20:00:00       0.595917\n",
       " 2022-03-13 22:00:00       0.689997\n",
       " ...                            ...\n",
       " 2022-04-12 00:00:00       1.786390\n",
       " 2022-04-12 02:00:00       1.840576\n",
       " 2022-04-12 04:00:00       2.604327\n",
       " 2022-04-12 06:00:00       3.552455\n",
       " 2022-04-12 08:00:00       3.572503\n",
       " \n",
       " [358 rows x 1 columns],\n",
       " 'VM07':                      CPU_USAGE_MHZ\n",
       " DATE                              \n",
       " 2022-03-14 10:00:00       0.605020\n",
       " 2022-03-14 12:00:00       0.581391\n",
       " 2022-03-14 14:00:00       0.410167\n",
       " 2022-03-14 16:00:00       0.394470\n",
       " 2022-03-14 18:00:00       0.357855\n",
       " ...                            ...\n",
       " 2022-04-12 22:00:00       0.631126\n",
       " 2022-04-13 00:00:00       0.684675\n",
       " 2022-04-13 02:00:00       0.479647\n",
       " 2022-04-13 04:00:00       0.569175\n",
       " 2022-04-13 06:00:00       0.753921\n",
       " \n",
       " [359 rows x 1 columns],\n",
       " 'VM08':                      CPU_USAGE_MHZ\n",
       " DATE                              \n",
       " 2022-03-14 10:00:00       0.034048\n",
       " 2022-03-14 12:00:00      -0.047749\n",
       " 2022-03-14 14:00:00      -0.432402\n",
       " 2022-03-14 16:00:00      -0.705806\n",
       " 2022-03-14 18:00:00      -0.744094\n",
       " ...                            ...\n",
       " 2022-04-12 20:00:00      -0.826761\n",
       " 2022-04-12 22:00:00      -0.883524\n",
       " 2022-04-13 00:00:00      -0.895238\n",
       " 2022-04-13 02:00:00      -0.895372\n",
       " 2022-04-13 04:00:00      -0.691984\n",
       " \n",
       " [358 rows x 1 columns],\n",
       " 'VM04':                      CPU_USAGE_MHZ\n",
       " DATE                              \n",
       " 2022-03-13 14:00:00      -0.306025\n",
       " 2022-03-13 16:00:00      -0.193203\n",
       " 2022-03-13 18:00:00      -0.256626\n",
       " 2022-03-13 20:00:00      -0.161609\n",
       " 2022-03-13 22:00:00      -0.049422\n",
       " ...                            ...\n",
       " 2022-04-12 00:00:00       0.010587\n",
       " 2022-04-12 02:00:00       0.086861\n",
       " 2022-04-12 04:00:00       0.127659\n",
       " 2022-04-12 06:00:00       0.456688\n",
       " 2022-04-12 08:00:00       0.560072\n",
       " \n",
       " [358 rows x 1 columns],\n",
       " 'VM01':                      CPU_USAGE_MHZ\n",
       " DATE                              \n",
       " 2022-03-14 12:00:00      -1.086577\n",
       " 2022-03-14 14:00:00      -1.086544\n",
       " 2022-03-14 16:00:00      -1.086544\n",
       " 2022-03-14 18:00:00      -1.086544\n",
       " 2022-03-14 20:00:00      -1.086544\n",
       " ...                            ...\n",
       " 2022-04-13 00:00:00      -1.086544\n",
       " 2022-04-13 02:00:00      -1.086544\n",
       " 2022-04-13 04:00:00      -1.086544\n",
       " 2022-04-13 06:00:00      -1.086544\n",
       " 2022-04-13 08:00:00      -1.086544\n",
       " \n",
       " [359 rows x 1 columns],\n",
       " 'VM02':                      CPU_USAGE_MHZ\n",
       " DATE                              \n",
       " 2022-03-14 14:00:00      -0.849587\n",
       " 2022-03-14 16:00:00      -0.884126\n",
       " 2022-03-14 18:00:00      -0.886804\n",
       " 2022-03-14 20:00:00      -0.882721\n",
       " 2022-03-14 22:00:00      -0.879072\n",
       " ...                            ...\n",
       " 2022-04-13 00:00:00      -0.880077\n",
       " 2022-04-13 02:00:00      -0.892460\n",
       " 2022-04-13 04:00:00      -0.882018\n",
       " 2022-04-13 06:00:00      -0.837906\n",
       " 2022-04-13 08:00:00      -0.858188\n",
       " \n",
       " [358 rows x 1 columns],\n",
       " 'VM05':                      CPU_USAGE_MHZ\n",
       " DATE                              \n",
       " 2022-03-13 14:00:00      -0.186610\n",
       " 2022-03-13 16:00:00      -0.180318\n",
       " 2022-03-13 18:00:00      -0.166361\n",
       " 2022-03-13 20:00:00      -0.155718\n",
       " 2022-03-13 22:00:00      -0.168269\n",
       " ...                            ...\n",
       " 2022-04-12 00:00:00      -0.472196\n",
       " 2022-04-12 02:00:00      -0.576250\n",
       " 2022-04-12 04:00:00      -0.541878\n",
       " 2022-04-12 06:00:00      -0.251304\n",
       " 2022-04-12 08:00:00       0.025681\n",
       " \n",
       " [358 rows x 1 columns]}"
      ]
     },
     "execution_count": 2,
     "metadata": {},
     "output_type": "execute_result"
    }
   ],
   "execution_count": 2
  }
 ],
 "metadata": {
  "kernelspec": {
   "display_name": "Python 3",
   "language": "python",
   "name": "python3"
  },
  "language_info": {
   "codemirror_mode": {
    "name": "ipython",
    "version": 2
   },
   "file_extension": ".py",
   "mimetype": "text/x-python",
   "name": "python",
   "nbconvert_exporter": "python",
   "pygments_lexer": "ipython2",
   "version": "2.7.6"
  }
 },
 "nbformat": 4,
 "nbformat_minor": 5
}
